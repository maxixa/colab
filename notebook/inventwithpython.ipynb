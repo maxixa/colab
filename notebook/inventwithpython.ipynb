{
 "cells": [
  {
   "cell_type": "code",
   "execution_count": 3,
   "id": "b57a324b-5bc1-4047-8896-0b3cec253d80",
   "metadata": {},
   "outputs": [],
   "source": [
    "import random\n",
    "\n",
    "NUM_DIGITS = 3  # (!) Try setting this to 1 or 10.\n",
    "MAX_GUESSES = 10  # (!) Try setting this to 1 or 100.\n"
   ]
  },
  {
   "cell_type": "code",
   "execution_count": 9,
   "id": "9edcb146-1f00-4011-be30-65c6f0315697",
   "metadata": {},
   "outputs": [
    {
     "name": "stdout",
     "output_type": "stream",
     "text": [
      "['5', '6', '3', '0', '2', '1', '9', '7', '4', '8']\n"
     ]
    }
   ],
   "source": [
    "numbers = list('0123456789')  # Create a list of digits 0 to 9.\n",
    "random.shuffle(numbers)  # Shuffle them into random order.\n",
    "print(numbers)"
   ]
  },
  {
   "cell_type": "code",
   "execution_count": 12,
   "id": "bdb4f617-8ba3-425e-9c0a-9103a5631056",
   "metadata": {},
   "outputs": [
    {
     "name": "stdout",
     "output_type": "stream",
     "text": [
      "['5', '6', '3', '0', '2', '1', '9', '7', '4', '8']\n",
      "563\n"
     ]
    }
   ],
   "source": [
    "\n",
    "secretNum = ''\n",
    "for i in range(NUM_DIGITS):\n",
    "    secretNum += str(numbers[i])\n",
    "print(numbers)\n",
    "print(secretNum)"
   ]
  },
  {
   "cell_type": "code",
   "execution_count": null,
   "id": "20743543-7dbc-4332-a50c-e264b9f2b935",
   "metadata": {},
   "outputs": [],
   "source": []
  },
  {
   "cell_type": "code",
   "execution_count": null,
   "id": "584d550f-ebc5-44ee-8735-8fdfb3f23886",
   "metadata": {},
   "outputs": [],
   "source": []
  }
 ],
 "metadata": {
  "kernelspec": {
   "display_name": "Python 3 (ipykernel)",
   "language": "python",
   "name": "python3"
  },
  "language_info": {
   "codemirror_mode": {
    "name": "ipython",
    "version": 3
   },
   "file_extension": ".py",
   "mimetype": "text/x-python",
   "name": "python",
   "nbconvert_exporter": "python",
   "pygments_lexer": "ipython3",
   "version": "3.10.6"
  }
 },
 "nbformat": 4,
 "nbformat_minor": 5
}
