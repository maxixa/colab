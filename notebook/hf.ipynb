{
 "cells": [
  {
   "cell_type": "markdown",
   "id": "d5b62604-c10a-48d3-8b01-2ccbcca818af",
   "metadata": {},
   "source": [
    "Turn a car"
   ]
  },
  {
   "cell_type": "code",
   "execution_count": null,
   "id": "01218950-3c03-4d62-b547-baddcc1f5d2c",
   "metadata": {
    "scrolled": true
   },
   "outputs": [],
   "source": [
    "a = \"car log knot toy\"\n",
    "b = \" CG\"\n",
    "print(a+b)"
   ]
  },
  {
   "cell_type": "code",
   "execution_count": null,
   "id": "02e14cfa-190a-4198-9bfa-8060e3bc1814",
   "metadata": {},
   "outputs": [],
   "source": [
    "i = range(5,15,2)\n",
    "list(i)"
   ]
  },
  {
   "cell_type": "code",
   "execution_count": null,
   "id": "2604520f-a38f-4be0-9eef-5b5b35e755b5",
   "metadata": {},
   "outputs": [],
   "source": [
    "a = [5, 8, 11, 14]\n",
    "for i in a:\n",
    "    if i >10 or i<12:\n",
    "        print(str(i) + \" Number\")"
   ]
  },
  {
   "cell_type": "code",
   "execution_count": null,
   "id": "49ec3b40-0295-44a5-b0d9-3edcbe4e1904",
   "metadata": {},
   "outputs": [],
   "source": [
    "a = ['Mary', 'had', 'a', 'little', 'lamb']\n",
    "for i in range(len(a)):\n",
    "    print( a[i])"
   ]
  },
  {
   "cell_type": "code",
   "execution_count": null,
   "id": "e32391fb-8852-4d79-bdf6-d60f60447906",
   "metadata": {},
   "outputs": [],
   "source": [
    "import os\n",
    "\n",
    "folderpath= \"/media/data/SD/outputs\"\n",
    "foldername = \"\"\n",
    "repo = \"Maxixa/bili\"\n",
    "repo_type = \"model\"\n",
    "\n",
    "from huggingface_hub import HfApi\n",
    "api = HfApi()\n",
    "api.upload_folder(\n",
    "    folder_path=folderpath,\n",
    "    path_in_repo=foldername,\n",
    "    repo_id=repo,\n",
    "    repo_type=repo_type,\n",
    ")"
   ]
  },
  {
   "cell_type": "code",
   "execution_count": null,
   "id": "b0d53984-8b71-4e4c-8f43-b96ef6b7894b",
   "metadata": {},
   "outputs": [],
   "source": [
    "from dynamicprompts.generators import RandomPromptGenerator\n",
    "\n",
    "generator = RandomPromptGenerator()\n",
    "p = list(generator.generate(\"I love {red|green|blue} roses\", num_images=1))\n",
    "\n"
   ]
  },
  {
   "cell_type": "code",
   "execution_count": null,
   "id": "ae483966-8162-431f-b493-1e75a8bcf943",
   "metadata": {},
   "outputs": [],
   "source": [
    "for gen in p:\n",
    "\n",
    "    print(gen)"
   ]
  },
  {
   "cell_type": "code",
   "execution_count": null,
   "id": "3aadc5de-820d-47eb-80d4-a2dcc9184fe6",
   "metadata": {},
   "outputs": [],
   "source": [
    "from pathlib import Path\n",
    "from dynamicprompts.generators import RandomPromptGenerator\n",
    "from dynamicprompts.wildcards.wildcard_manager import WildcardManager\n",
    "\n",
    "wm = WildcardManager(Path(\"/media/data/SD/WildYaml/\"))\n",
    "pr = \"RAW photo, dewiratih, {close up|full body||}, {blonde|} {__hairacc__|}, {__hair__| } hair, wearing ({__color__|} {sexy|} {__dress__|__cute__|__elegant__}:1.3), {pink|} glasses, model photoshot, fashion photoshot, detailed, sharp focus, dynamic pose, studio lghting, {white|__simbg__|__placebg__} background, hd, uhd, 8k, (pale skin:1.3), dslr, soft lighting, high quality, film grain, Fujifilm XT3\"\n",
    "generator = RandomPromptGenerator(wildcard_manager=wm)\n",
    "prompt = list(generator.generate(pr, num_images=1))\n",
    "print(prompt[0])"
   ]
  },
  {
   "cell_type": "code",
   "execution_count": null,
   "id": "bb164166-a674-470b-9892-fef97f159e0b",
   "metadata": {},
   "outputs": [],
   "source": [
    "for p in prompt:\n",
    "\n",
    "    print(p)"
   ]
  },
  {
   "cell_type": "code",
   "execution_count": null,
   "id": "7bc34a9c-099c-4813-a66c-998197f5378a",
   "metadata": {},
   "outputs": [],
   "source": [
    "budy = {\n",
    "    \"name\":\"Joko\",\n",
    "    \"age\":56,\n",
    "    \"home\":\"alone\",\n",
    "    'address':{\n",
    "        'city':'Bojong',\n",
    "        'country':'Indonesia',\n",
    "        'mail':21321,\n",
    "    },\n",
    "    'vehicle':{\n",
    "        'sedan':'Chevrolete',\n",
    "        'Tuck':'Mercedes Benz',\n",
    "        'becycle':{\n",
    "            'tire':3,\n",
    "            'seat':2,\n",
    "        },\n",
    "    },\n",
    "}\n",
    "print(budy[\"vehicle\"][\"sedan\"])"
   ]
  },
  {
   "cell_type": "code",
   "execution_count": null,
   "id": "6c418414-0717-4b93-ad62-96c226786fc2",
   "metadata": {},
   "outputs": [],
   "source": [
    "groups = {\n",
    "'1':{\"name\":'Moyo'},\n",
    "'2':{\"name\":'Keyem'},\n",
    "'3':{\"name\":'Yanto'},\n",
    "'4':{\"name\":'Udin'},\n",
    "}\n",
    "# for group, val in groups.items():\n",
    "#     print(f\"{val[0]}\")\n",
    "\n",
    "print(groups['3']['name'])\n",
    "\n",
    "\n"
   ]
  },
  {
   "cell_type": "code",
   "execution_count": null,
   "id": "c88882e8-e09c-479b-9612-c00a86909c4d",
   "metadata": {},
   "outputs": [],
   "source": [
    "for k,v in budy.items():\n",
    "    print(f\"{k} make {v}\")"
   ]
  },
  {
   "cell_type": "code",
   "execution_count": null,
   "id": "b439d387-aad9-46f6-8dc5-9dfab0329e06",
   "metadata": {},
   "outputs": [],
   "source": [
    "lists = [\n",
    "    ['buke','granade','pistol','rudal'],\n",
    "    ['mercon','karet','paku']\n",
    "]\n",
    "for l in lists:\n",
    "    print(f'bagus pake {l[0]} ketimbang {l[1]} apa lagi {l[2]}')"
   ]
  },
  {
   "cell_type": "code",
   "execution_count": null,
   "id": "ea956965-06a2-4491-9434-250d572ea582",
   "metadata": {},
   "outputs": [],
   "source": [
    "lists = [\n",
    "    ['buke','granade','pistol'],\n",
    "    ['mercon','karet','paku']\n",
    "]\n",
    "for a,b,c in lists:\n",
    "    print(f'bagus pake {a} ketimbang {b} apa lagi {c}')"
   ]
  },
  {
   "cell_type": "code",
   "execution_count": null,
   "id": "9ee86ab2-9ec2-44e7-986b-bbedca8dea52",
   "metadata": {},
   "outputs": [],
   "source": [
    "import os\n",
    "\n",
    "folder = '/media/data/SD/WildYaml/bill/' \n",
    "\n",
    "for filename in os.listdir(folder):\n",
    "    if filename.endswith('.yaml'):\n",
    "        filepath = os.path.join(folder, filename)\n",
    "        \n",
    "        with open(filepath, 'r') as f:\n",
    "            text = f.read()\n",
    "            \n",
    "        text = text.lower()\n",
    "        \n",
    "        with open(filepath, 'w') as f: \n",
    "            f.write(text)"
   ]
  },
  {
   "cell_type": "code",
   "execution_count": null,
   "id": "aa355d2c-ad40-4ed8-ba9b-d4cccd60665a",
   "metadata": {},
   "outputs": [],
   "source": [
    "list_a = ['max','fose','bro']\n",
    "list_c = ['2','3','5']\n",
    "list_f = ['8','15','7']\n",
    "\n",
    "for a in list_a:\n",
    "    for c in list_c:\n",
    "        for f in list_f:\n",
    "            print(f'multifly {int(c)*int(f)} age of {a}')\n"
   ]
  },
  {
   "cell_type": "code",
   "execution_count": null,
   "id": "ebc896d3-0b36-4fec-b545-413bafad7897",
   "metadata": {},
   "outputs": [],
   "source": [
    "import os\n",
    "\n",
    "input = os.listdir('apps')\n",
    "for content in input:\n",
    "    print(f\"{content}\")"
   ]
  },
  {
   "cell_type": "code",
   "execution_count": null,
   "id": "2b61d18f-b0d9-4b10-87ef-b5df0188701d",
   "metadata": {
    "jupyter": {
     "source_hidden": true
    }
   },
   "outputs": [],
   "source": [
    "model_path = \"Deliberate3\"\n",
    "\n",
    "if model_path == \"Real-v51\":\n",
    "    print (model_path)\n",
    "elif model_path == \"Deliberate3\":\n",
    "    print (model_path)"
   ]
  },
  {
   "cell_type": "code",
   "execution_count": null,
   "id": "d4d07a17-39b5-4092-99bc-fb1a07614c8c",
   "metadata": {},
   "outputs": [],
   "source": [
    "from pytube import YouTube\n",
    "yt = YouTube('https://www.youtube.com/watch?v=mNIcu00bciM')\n",
    "yt.streams.filter(only_audio=True)"
   ]
  },
  {
   "cell_type": "code",
   "execution_count": null,
   "id": "9a5ad6dc-b6ce-4b8b-93b2-30abb1724a0e",
   "metadata": {},
   "outputs": [],
   "source": [
    "play = \"https://www.youtube.com/playlist?list=PLrW02M2g4NNMHJ2cX8doCg9rkhx5Ymx_0\""
   ]
  },
  {
   "cell_type": "code",
   "execution_count": 8,
   "id": "25b75508-88d4-474d-b2ac-134eb5250e53",
   "metadata": {},
   "outputs": [],
   "source": [
    "dir = \"/media/data/yt/play/Greg-Kamradt/\"\n",
    "!mkdir -p $dir"
   ]
  },
  {
   "cell_type": "code",
   "execution_count": null,
   "id": "0874008f-aad6-4f50-b6c3-9719f3c80746",
   "metadata": {
    "scrolled": true
   },
   "outputs": [],
   "source": [
    "%cd $dir\n",
    "\n",
    "from pytube import Playlist\n",
    "from pytube import YouTube\n",
    "\n",
    "\n",
    "\n",
    "playlist = Playlist(play)\n",
    "print('Number of videos in playlist: %s' % len(playlist.video_urls))\n",
    "for video_url in playlist.video_urls:\n",
    "    print(video_url)\n",
    "    video=YouTube(video_url)\n",
    "    try:\n",
    "       #video.streams.first().download()\n",
    "       video.streams.filter(res=\"480p\").first().download()\n",
    "       #video.streams.filter(res=\"720p\").first().download()\n",
    "       #video.streams.get_by_itag(140).download()\n",
    "       #video.streams.filter(type=\"audio\").first().download()\n",
    "       #video.streams.get_highest_resolution().download()\n",
    "    except:\n",
    "         continue"
   ]
  },
  {
   "cell_type": "code",
   "execution_count": null,
   "id": "0abc51a0-b76d-4c20-b03d-cf1de8fb11c7",
   "metadata": {},
   "outputs": [],
   "source": [
    "%cd $dir\n",
    "\n",
    "from pytube import Playlist\n",
    "from pytube import YouTube\n",
    "playlist = Playlist(play)\n",
    "print('Number of videos in playlist: %s' % len(playlist.video_urls))\n",
    "for video_url in playlist.video_urls:\n",
    "    print(video_url)\n",
    "    video=YouTube(video_url)\n",
    "    try:\n",
    "       video.streams.get_by_itag(249).download()\n",
    "    except:\n",
    "         continue"
   ]
  },
  {
   "cell_type": "code",
   "execution_count": 2,
   "id": "bfe59478-1c42-4551-9113-4b5fae58e947",
   "metadata": {},
   "outputs": [],
   "source": [
    "link = \"https://www.youtube.com/watch?v=2xxziIWmaSA\""
   ]
  },
  {
   "cell_type": "code",
   "execution_count": 7,
   "id": "07492db8-2536-4648-bc12-b2d0bf94e688",
   "metadata": {},
   "outputs": [
    {
     "name": "stdout",
     "output_type": "stream",
     "text": [
      "/media/data/yt/play/Greg-Kamradt\n"
     ]
    },
    {
     "data": {
      "text/plain": [
       "'/media/data/yt/play/Greg-Kamradt/The LangChain Cookbook - Beginner Guide To 7 Essential Concepts.mp4'"
      ]
     },
     "execution_count": 7,
     "metadata": {},
     "output_type": "execute_result"
    }
   ],
   "source": [
    "%cd $dir\n",
    "from pytube import YouTube\n",
    "video_url = link\n",
    "video=YouTube(video_url)\n",
    "video.streams.filter(res=\"480p\").first().download()\n",
    "# video.streams.filter(res=\"720p\",adaptive=True).first().download()"
   ]
  },
  {
   "cell_type": "code",
   "execution_count": 6,
   "id": "bd5ff7cf-1c1a-49f7-8508-896c8e5b2fb5",
   "metadata": {
    "scrolled": true
   },
   "outputs": [
    {
     "data": {
      "text/plain": [
       "[<Stream: itag=\"18\" mime_type=\"video/mp4\" res=\"360p\" fps=\"24fps\" vcodec=\"avc1.42001E\" acodec=\"mp4a.40.2\" progressive=\"True\" type=\"video\">, <Stream: itag=\"22\" mime_type=\"video/mp4\" res=\"720p\" fps=\"24fps\" vcodec=\"avc1.64001F\" acodec=\"mp4a.40.2\" progressive=\"True\" type=\"video\">, <Stream: itag=\"137\" mime_type=\"video/mp4\" res=\"1080p\" fps=\"24fps\" vcodec=\"avc1.640028\" progressive=\"False\" type=\"video\">, <Stream: itag=\"248\" mime_type=\"video/webm\" res=\"1080p\" fps=\"24fps\" vcodec=\"vp9\" progressive=\"False\" type=\"video\">, <Stream: itag=\"136\" mime_type=\"video/mp4\" res=\"720p\" fps=\"24fps\" vcodec=\"avc1.4d401f\" progressive=\"False\" type=\"video\">, <Stream: itag=\"247\" mime_type=\"video/webm\" res=\"720p\" fps=\"24fps\" vcodec=\"vp9\" progressive=\"False\" type=\"video\">, <Stream: itag=\"135\" mime_type=\"video/mp4\" res=\"480p\" fps=\"24fps\" vcodec=\"avc1.4d401e\" progressive=\"False\" type=\"video\">, <Stream: itag=\"244\" mime_type=\"video/webm\" res=\"480p\" fps=\"24fps\" vcodec=\"vp9\" progressive=\"False\" type=\"video\">, <Stream: itag=\"134\" mime_type=\"video/mp4\" res=\"360p\" fps=\"24fps\" vcodec=\"avc1.4d401e\" progressive=\"False\" type=\"video\">, <Stream: itag=\"243\" mime_type=\"video/webm\" res=\"360p\" fps=\"24fps\" vcodec=\"vp9\" progressive=\"False\" type=\"video\">, <Stream: itag=\"133\" mime_type=\"video/mp4\" res=\"240p\" fps=\"24fps\" vcodec=\"avc1.4d4015\" progressive=\"False\" type=\"video\">, <Stream: itag=\"242\" mime_type=\"video/webm\" res=\"240p\" fps=\"24fps\" vcodec=\"vp9\" progressive=\"False\" type=\"video\">, <Stream: itag=\"160\" mime_type=\"video/mp4\" res=\"144p\" fps=\"24fps\" vcodec=\"avc1.4d400c\" progressive=\"False\" type=\"video\">, <Stream: itag=\"278\" mime_type=\"video/webm\" res=\"144p\" fps=\"24fps\" vcodec=\"vp9\" progressive=\"False\" type=\"video\">, <Stream: itag=\"139\" mime_type=\"audio/mp4\" abr=\"48kbps\" acodec=\"mp4a.40.5\" progressive=\"False\" type=\"audio\">, <Stream: itag=\"140\" mime_type=\"audio/mp4\" abr=\"128kbps\" acodec=\"mp4a.40.2\" progressive=\"False\" type=\"audio\">, <Stream: itag=\"249\" mime_type=\"audio/webm\" abr=\"50kbps\" acodec=\"opus\" progressive=\"False\" type=\"audio\">, <Stream: itag=\"250\" mime_type=\"audio/webm\" abr=\"70kbps\" acodec=\"opus\" progressive=\"False\" type=\"audio\">, <Stream: itag=\"251\" mime_type=\"audio/webm\" abr=\"160kbps\" acodec=\"opus\" progressive=\"False\" type=\"audio\">]"
      ]
     },
     "execution_count": 6,
     "metadata": {},
     "output_type": "execute_result"
    }
   ],
   "source": [
    "video.streams"
   ]
  },
  {
   "cell_type": "code",
   "execution_count": 4,
   "id": "db4aca25-050c-40d9-bbdf-6cd87c095cd0",
   "metadata": {},
   "outputs": [
    {
     "name": "stdout",
     "output_type": "stream",
     "text": [
      "/media/data/yt/play/Greg-Kamradt\n"
     ]
    },
    {
     "data": {
      "text/plain": [
       "'/media/data/yt/play/Greg-Kamradt/The LangChain Cookbook - Beginner Guide To 7 Essential Concepts.mp4'"
      ]
     },
     "execution_count": 4,
     "metadata": {},
     "output_type": "execute_result"
    }
   ],
   "source": [
    "%cd $dir\n",
    "from pytube import YouTube\n",
    "video_url = link\n",
    "video=YouTube(video_url)\n",
    "video.streams.get_by_itag(249).download()\n",
    "# video.streams.get_by_itag(140).download()"
   ]
  },
  {
   "cell_type": "code",
   "execution_count": null,
   "id": "d7ff60fe-368e-4aa7-aed8-7e178c1b0dc3",
   "metadata": {},
   "outputs": [],
   "source": [
    "video.captions"
   ]
  },
  {
   "cell_type": "code",
   "execution_count": null,
   "id": "9e8e983e-4c0a-4b33-834b-d987976dea7d",
   "metadata": {},
   "outputs": [],
   "source": [
    "print(caption.generate_srt_captions())\n"
   ]
  },
  {
   "cell_type": "code",
   "execution_count": null,
   "id": "c36b4fd9-5622-4af2-bc4b-5161b6d20e92",
   "metadata": {},
   "outputs": [],
   "source": [
    "video.streams.filter(res=\"480p\").first().download()"
   ]
  },
  {
   "cell_type": "code",
   "execution_count": 1,
   "id": "354b357c-941a-4ea9-bf42-fb09e03c6f06",
   "metadata": {},
   "outputs": [],
   "source": [
    "dir = '/media/data/yt/play/traversy/'"
   ]
  },
  {
   "cell_type": "code",
   "execution_count": 9,
   "id": "8e6666c1-0838-45a6-84b0-009317dc856f",
   "metadata": {
    "scrolled": true
   },
   "outputs": [
    {
     "name": "stderr",
     "output_type": "stream",
     "text": [
      "ffmpeg version 4.4.2-0ubuntu0.22.04.1 Copyright (c) 2000-2021 the FFmpeg developers\n",
      "  built with gcc 11 (Ubuntu 11.2.0-19ubuntu1)\n",
      "  configuration: --prefix=/usr --extra-version=0ubuntu0.22.04.1 --toolchain=hardened --libdir=/usr/lib/x86_64-linux-gnu --incdir=/usr/include/x86_64-linux-gnu --arch=amd64 --enable-gpl --disable-stripping --enable-gnutls --enable-ladspa --enable-libaom --enable-libass --enable-libbluray --enable-libbs2b --enable-libcaca --enable-libcdio --enable-libcodec2 --enable-libdav1d --enable-libflite --enable-libfontconfig --enable-libfreetype --enable-libfribidi --enable-libgme --enable-libgsm --enable-libjack --enable-libmp3lame --enable-libmysofa --enable-libopenjpeg --enable-libopenmpt --enable-libopus --enable-libpulse --enable-librabbitmq --enable-librubberband --enable-libshine --enable-libsnappy --enable-libsoxr --enable-libspeex --enable-libsrt --enable-libssh --enable-libtheora --enable-libtwolame --enable-libvidstab --enable-libvorbis --enable-libvpx --enable-libwebp --enable-libx265 --enable-libxml2 --enable-libxvid --enable-libzimg --enable-libzmq --enable-libzvbi --enable-lv2 --enable-omx --enable-openal --enable-opencl --enable-opengl --enable-sdl2 --enable-pocketsphinx --enable-librsvg --enable-libmfx --enable-libdc1394 --enable-libdrm --enable-libiec61883 --enable-chromaprint --enable-frei0r --enable-libx264 --enable-shared\n",
      "  libavutil      56. 70.100 / 56. 70.100\n",
      "  libavcodec     58.134.100 / 58.134.100\n",
      "  libavformat    58. 76.100 / 58. 76.100\n",
      "  libavdevice    58. 13.100 / 58. 13.100\n",
      "  libavfilter     7.110.100 /  7.110.100\n",
      "  libswscale      5.  9.100 /  5.  9.100\n",
      "  libswresample   3.  9.100 /  3.  9.100\n",
      "  libpostproc    55.  9.100 / 55.  9.100\n",
      "Input #0, mov,mp4,m4a,3gp,3g2,mj2, from '/media/data/yt/play/Greg-Kamradt/The LangChain Cookbook - Beginner Guide To 7 Essential Concepts.mp4':\n",
      "  Metadata:\n",
      "    major_brand     : dash\n",
      "    minor_version   : 0\n",
      "    compatible_brands: iso6avc1mp41\n",
      "    creation_time   : 2023-03-29T21:46:15.000000Z\n",
      "  Duration: 00:38:10.38, start: 0.000000, bitrate: 68 kb/s\n",
      "  Stream #0:0(und): Video: h264 (Main) (avc1 / 0x31637661), yuv420p(tv, bt709, progressive), 854x480 [SAR 1:1 DAR 427:240], 0 kb/s, 24 fps, 24 tbr, 12288 tbn, 48 tbc (default)\n",
      "    Metadata:\n",
      "      creation_time   : 2023-03-29T21:46:15.000000Z\n",
      "      handler_name    : ISO Media file produced by Google Inc.\n",
      "      vendor_id       : [0][0][0][0]\n",
      "Input #1, mov,mp4,m4a,3gp,3g2,mj2, from '/media/data/yt/play/Greg-Kamradt/The LangChain Cookbook - Beginner Guide To 7 Essential Concepts.webm':\n",
      "  Metadata:\n",
      "    major_brand     : dash\n",
      "    minor_version   : 0\n",
      "    compatible_brands: iso6mp41\n",
      "    creation_time   : 2023-03-29T21:38:20.000000Z\n",
      "  Duration: 00:38:10.46, start: 0.000000, bitrate: 129 kb/s\n",
      "  Stream #1:0(und): Audio: aac (LC) (mp4a / 0x6134706D), 44100 Hz, stereo, fltp, 0 kb/s (default)\n",
      "    Metadata:\n",
      "      creation_time   : 2023-03-29T21:38:20.000000Z\n",
      "      handler_name    : ISO Media file produced by Google Inc.\n",
      "      vendor_id       : [0][0][0][0]\n",
      "Output #0, mp4, to '/media/data/yt/play/Greg-Kamradt/The LangChain Cookbook - Beginner Guide To 7 Essential Concepts-merged.mp4':\n",
      "  Metadata:\n",
      "    major_brand     : dash\n",
      "    minor_version   : 0\n",
      "    compatible_brands: iso6avc1mp41\n",
      "    encoder         : Lavf58.76.100\n",
      "  Stream #0:0(und): Video: h264 (Main) (avc1 / 0x31637661), yuv420p(tv, bt709, progressive), 854x480 [SAR 1:1 DAR 427:240], q=2-31, 0 kb/s, 24 fps, 24 tbr, 12288 tbn, 12288 tbc (default)\n",
      "    Metadata:\n",
      "      creation_time   : 2023-03-29T21:46:15.000000Z\n",
      "      handler_name    : ISO Media file produced by Google Inc.\n",
      "      vendor_id       : [0][0][0][0]\n",
      "  Stream #0:1(und): Audio: aac (LC) (mp4a / 0x6134706D), 44100 Hz, stereo, fltp, 0 kb/s (default)\n",
      "    Metadata:\n",
      "      creation_time   : 2023-03-29T21:38:20.000000Z\n",
      "      handler_name    : ISO Media file produced by Google Inc.\n",
      "      vendor_id       : [0][0][0][0]\n",
      "Stream mapping:\n",
      "  Stream #0:0 -> #0:0 (copy)\n",
      "  Stream #1:0 -> #0:1 (copy)\n",
      "Press [q] to stop, [?] for help\n",
      "frame=54969 fps=1687 q=-1.0 Lsize=   55944kB time=00:38:10.43 bitrate= 200.1kbits/s speed=70.3x    \n",
      "video:18528kB audio:35788kB subtitle:0kB other streams:0kB global headers:0kB muxing overhead: 2.995510%\n"
     ]
    }
   ],
   "source": [
    "import os\n",
    "import subprocess\n",
    "\n",
    "video_dir = dir\n",
    "\n",
    "for video_file in os.listdir(video_dir):\n",
    "    if video_file.endswith('.mp4'):\n",
    "        \n",
    "        base_name = os.path.splitext(video_file)[0]\n",
    "        audio_file = base_name + '.webm'\n",
    "        \n",
    "        output_file = base_name + '-merged.mp4'\n",
    "        \n",
    "        ffmpeg_command = [\n",
    "            'ffmpeg', \n",
    "            '-i', os.path.join(video_dir, video_file),\n",
    "            '-i', os.path.join(video_dir, audio_file),\n",
    "            '-c:v', 'copy',\n",
    "            '-c:a', 'copy',\n",
    "            os.path.join(video_dir, output_file)\n",
    "        ]\n",
    "        \n",
    "        subprocess.run(ffmpeg_command)"
   ]
  },
  {
   "cell_type": "code",
   "execution_count": null,
   "id": "f1f4315a-424f-4ab5-bf77-c5f80a3f424e",
   "metadata": {},
   "outputs": [],
   "source": [
    "import PIL\n",
    "import os\n",
    "\n",
    "image_folder = '/media/data/masking/halfbody/img/'\n",
    "mask_folder = '/media/data/masking/halfbody/mask/'\n",
    "\n",
    "image_files = os.listdir(image_folder)\n",
    "mask_files = os.listdir(mask_folder)\n",
    "\n",
    "for image_file in image_files:\n",
    "  name, ext = os.path.splitext(image_file)\n",
    "  if f'{name}.png' in mask_files:\n",
    "    image_path = os.path.join(image_folder, image_file)\n",
    "    mask_path = os.path.join(mask_folder, name + '.png')\n",
    "    print(image_path)\n",
    "    print(mask_path)\n",
    "  else:\n",
    "    print('Nothing')"
   ]
  },
  {
   "cell_type": "code",
   "execution_count": null,
   "id": "d032e256-dfe0-4441-a3d1-da3aefcc2275",
   "metadata": {},
   "outputs": [],
   "source": [
    "print(mask_files)"
   ]
  },
  {
   "cell_type": "code",
   "execution_count": 20,
   "id": "9fcda794-b69f-425d-a5cc-f5f0b48550b7",
   "metadata": {},
   "outputs": [
    {
     "name": "stdout",
     "output_type": "stream",
     "text": [
      "0.5\n",
      "0.6\n",
      "0.7\n"
     ]
    }
   ],
   "source": [
    "denoise_range = {0.5, 0.6, 0.7}\n",
    "for denoise in denoise_range:\n",
    "    print(denoise)"
   ]
  },
  {
   "cell_type": "code",
   "execution_count": 19,
   "id": "8e718e27-23c8-44ba-bdab-391f8d64d4aa",
   "metadata": {},
   "outputs": [
    {
     "name": "stdout",
     "output_type": "stream",
     "text": [
      "1\n"
     ]
    }
   ],
   "source": [
    "import random\n",
    "num = [1,2,3]\n",
    "print(random.choice(num))"
   ]
  },
  {
   "cell_type": "code",
   "execution_count": 21,
   "id": "ef26b452-8d1e-456b-b95f-0c97f863c24e",
   "metadata": {},
   "outputs": [
    {
     "name": "stdout",
     "output_type": "stream",
     "text": [
      " You have hundred guesses to get it.\n"
     ]
    }
   ],
   "source": [
    "max = 'hundred'\n",
    "print(' You have {} guesses to get it.'.format(max))"
   ]
  }
 ],
 "metadata": {
  "kernelspec": {
   "display_name": "Python 3 (ipykernel)",
   "language": "python",
   "name": "python3"
  },
  "language_info": {
   "codemirror_mode": {
    "name": "ipython",
    "version": 3
   },
   "file_extension": ".py",
   "mimetype": "text/x-python",
   "name": "python",
   "nbconvert_exporter": "python",
   "pygments_lexer": "ipython3",
   "version": "3.10.6"
  }
 },
 "nbformat": 4,
 "nbformat_minor": 5
}
