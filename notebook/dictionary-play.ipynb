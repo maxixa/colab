{
 "cells": [
  {
   "cell_type": "code",
   "execution_count": null,
   "id": "88bc0c5b-2fef-410b-9b03-1b1dfb1303aa",
   "metadata": {},
   "outputs": [],
   "source": [
    "import json\n",
    "\n",
    "with open('/home/nick/tutuhuatuhualimit2.json', 'r') as f:\n",
    "  data = json.load(f)\n",
    "\n",
    "# Output: {'name': 'Bob', 'languages': ['English', 'French']}\n",
    "print(data[items])"
   ]
  },
  {
   "cell_type": "code",
   "execution_count": null,
   "id": "e9007468-0210-4154-b50c-b0a6ad5be973",
   "metadata": {
    "scrolled": true
   },
   "outputs": [],
   "source": [
    "country_capitals = {\n",
    "  \"United States\": \"Washington D.C.\", \n",
    "  \"Italy\": \"Naples\", \n",
    "  \"England\": \"London\"\n",
    "}"
   ]
  },
  {
   "cell_type": "code",
   "execution_count": null,
   "id": "a27f3b6a-eeea-4346-b367-e326f742f410",
   "metadata": {
    "scrolled": true
   },
   "outputs": [],
   "source": [
    "new = {\n",
    "  \"tris\": {\"muol\":\"kino\"},\n",
    "  \"foort\": {\"medl\":\"limp\"}\n",
    "}\n",
    "\n",
    "# change the value of \"Italy\" key to \"Rome\"\n",
    "country_capitals[\"fiso\"] = new\n",
    "\n",
    "print(country_capitals)"
   ]
  },
  {
   "cell_type": "code",
   "execution_count": null,
   "id": "5101eec0-d0c8-4bac-a5b7-6a78e43e01b8",
   "metadata": {},
   "outputs": [],
   "source": [
    "country_capitals['fiso'].get('tris')"
   ]
  },
  {
   "cell_type": "code",
   "execution_count": null,
   "id": "9f8a797c-94f7-4b81-8950-593cbf31832a",
   "metadata": {},
   "outputs": [],
   "source": [
    "print(country_capitals['fiso']['tris']['muol'])"
   ]
  },
  {
   "cell_type": "code",
   "execution_count": null,
   "id": "22428590-2deb-489a-a9e3-e076442409e4",
   "metadata": {},
   "outputs": [],
   "source": [
    "print(list(country_capitals.items())[3][1])"
   ]
  },
  {
   "cell_type": "code",
   "execution_count": null,
   "id": "8bcc5615-cfd3-4c53-95b5-1b113ce3fa76",
   "metadata": {},
   "outputs": [],
   "source": [
    "print(list(country_capitals.keys()))"
   ]
  },
  {
   "cell_type": "code",
   "execution_count": null,
   "id": "93b9135d-a019-49d1-bb1b-f0d28e165a8c",
   "metadata": {},
   "outputs": [],
   "source": [
    "print(list(country_capitals.values()))"
   ]
  },
  {
   "cell_type": "code",
   "execution_count": null,
   "id": "5d23ab32-0082-4a7f-a919-dae8a560efe6",
   "metadata": {},
   "outputs": [],
   "source": [
    "try:\n",
    "  del country_capitals[\"tio\"]\n",
    "  print(\"key is gone\")\n",
    "except:\n",
    "  print(\"no key\")"
   ]
  },
  {
   "cell_type": "code",
   "execution_count": null,
   "id": "d79db597-ef8b-4901-afe4-25fe95744819",
   "metadata": {},
   "outputs": [],
   "source": [
    "print('medl' in country_capitals['fiso']['foort'])"
   ]
  },
  {
   "cell_type": "code",
   "execution_count": null,
   "id": "589e98c5-c730-4ec7-b090-1ca58602cd0f",
   "metadata": {},
   "outputs": [],
   "source": [
    "# print dictionary keys one by one\n",
    "for country,capitals in country_capitals.items():\n",
    "  print(country)\n",
    "  print(capitals)\n",
    "  print(\"+++++++++++++\")\n",
    "\n",
    "print(\"----------\")\n",
    "\n",
    "# print dictionary values one by one\n",
    "for country in country_capitals:\n",
    "    capital = country_capitals[country]\n",
    "    print(capital)"
   ]
  },
  {
   "cell_type": "code",
   "execution_count": null,
   "id": "afe4e698-86a8-4db2-9adf-b39416a3458c",
   "metadata": {},
   "outputs": [],
   "source": [
    "import random\n",
    "\n",
    "p=random.choice([55,70,'boo'])\n",
    "print(p)"
   ]
  },
  {
   "cell_type": "code",
   "execution_count": null,
   "id": "9b6d7519-a558-4abb-be06-5401b802c2c9",
   "metadata": {},
   "outputs": [],
   "source": [
    "folder = [\n",
    "    ['/home/nick/env/django/','/home/nick/env/flask/'],\n",
    "    ['/home/nick/env/md/','/home/nick/env/block/'],\n",
    "    ['/home/nick/env/lingo/','/home/nick/env/brom/'],\n",
    "]\n",
    "\n",
    "# for img,mask in folder.items():\n",
    "#     print(mask)\n",
    "\n",
    "# for lists in folder:\n",
    "#    print(lists)\n",
    "\n",
    "p=random.choice(folder)\n",
    "print(f\"image folder is {p[0]} and mask folder is {p[1]}\")\n"
   ]
  },
  {
   "cell_type": "code",
   "execution_count": null,
   "id": "df4da56a-e1a2-4d8a-8204-afd5d85aa312",
   "metadata": {},
   "outputs": [],
   "source": [
    "my_dict = {\n",
    "    'John': {'Age': 30, 'Job': 'Engineer'},\n",
    "    'Rudi': {'Age': 28, 'Job': 'Doctor'}\n",
    "}\n",
    "print(my_dict)"
   ]
  },
  {
   "cell_type": "code",
   "execution_count": null,
   "id": "3bd42011-4a89-4141-bc51-7c00037dd038",
   "metadata": {},
   "outputs": [],
   "source": [
    "print(list(my_dict.keys())[1])\n",
    "print(my_dict['Rudi']['Age'])\n",
    "print(my_dict['Rudi']['Job'])"
   ]
  },
  {
   "cell_type": "code",
   "execution_count": null,
   "id": "b8904b19-1c01-47a1-a58c-98a986e82432",
   "metadata": {},
   "outputs": [],
   "source": [
    "my_dict['John']['Age'] = 31\n",
    "print(my_dict['John']['Age'])"
   ]
  },
  {
   "cell_type": "code",
   "execution_count": null,
   "id": "597d38f6-cf6c-4f42-b1dd-c9228e8eae0b",
   "metadata": {},
   "outputs": [],
   "source": [
    "my_dict['John']['Salary'] = 80000\n",
    "my_dict['Rudi']['Salary'] = 120000\n",
    "print(my_dict['John'])"
   ]
  },
  {
   "cell_type": "code",
   "execution_count": null,
   "id": "c92a27b1-895c-4538-b5f3-b7ee524e396e",
   "metadata": {},
   "outputs": [],
   "source": [
    "for person, info in my_dict.items():\n",
    "    for key in info:\n",
    "        print(f\"{person}'s {key} is {info[key]}\")"
   ]
  },
  {
   "cell_type": "code",
   "execution_count": null,
   "id": "9a8aa3f5-4467-44d5-8ba6-bb1820db03a3",
   "metadata": {},
   "outputs": [],
   "source": [
    "for person, info in my_dict.items():\n",
    "    for key, value in info.items():\n",
    "        print(f\"{person}'s {key} is {value}\")"
   ]
  },
  {
   "cell_type": "code",
   "execution_count": null,
   "id": "6cd7ef9e-5c38-4e5a-bcbe-52b1876ae764",
   "metadata": {},
   "outputs": [],
   "source": [
    "ages = {person: info['Age'] for person, info in my_dict.items()}\n",
    "print(ages)\n",
    "pay = {person: info['Salary'] for person, info in my_dict.items()}\n",
    "print(pay)"
   ]
  },
  {
   "cell_type": "code",
   "execution_count": null,
   "id": "007bffe4-4106-411b-a55b-0e2ec6f8e736",
   "metadata": {},
   "outputs": [],
   "source": [
    "print(my_dict.get('John').get('Age', 'Not provided'))\n",
    "print(my_dict.get('Rudi').get('Salary', 'Not provided'))\n",
    "print(my_dict.get('John').get('Heght', 'Woooo'))"
   ]
  },
  {
   "cell_type": "code",
   "execution_count": null,
   "id": "bd93ed4e-90b7-4169-957c-16eb86f1aea2",
   "metadata": {},
   "outputs": [],
   "source": [
    "new_duct = {'Toni': {'Age': 20, 'Job': 'footer'},}\n",
    "\n",
    "my_dict += new_duct"
   ]
  },
  {
   "cell_type": "code",
   "execution_count": null,
   "id": "f5a8646d-bcd8-4fd6-8cb4-cbe2ece9fbe0",
   "metadata": {},
   "outputs": [],
   "source": [
    "!pip list"
   ]
  },
  {
   "cell_type": "code",
   "execution_count": null,
   "id": "af7e63c2-bccf-4c4c-99c5-aaf4bef73256",
   "metadata": {},
   "outputs": [],
   "source": [
    "mask_folder = (\n",
    "  ('/content/Masking/content/Masking/B4u500/img','/content/Masking/content/Masking/B4u500/mask','jpeg'),\n",
    "  ('/content/Masking/content/Masking/B4u550/img','/content/Masking/content/Masking/B4u550/mask','jpeg'),\n",
    ")"
   ]
  },
  {
   "cell_type": "code",
   "execution_count": null,
   "id": "08b58cca-f288-4c76-8143-b99987dd4f41",
   "metadata": {},
   "outputs": [],
   "source": [
    "for img, mask, ext in mask_folder:\n",
    "  print(f\"the folder for image : {img}, folder for mask : {mask}, the extension {ext}\")\n"
   ]
  }
 ],
 "metadata": {
  "kernelspec": {
   "display_name": "Python 3 (ipykernel)",
   "language": "python",
   "name": "python3"
  },
  "language_info": {
   "codemirror_mode": {
    "name": "ipython",
    "version": 3
   },
   "file_extension": ".py",
   "mimetype": "text/x-python",
   "name": "python",
   "nbconvert_exporter": "python",
   "pygments_lexer": "ipython3",
   "version": "3.10.6"
  }
 },
 "nbformat": 4,
 "nbformat_minor": 5
}
